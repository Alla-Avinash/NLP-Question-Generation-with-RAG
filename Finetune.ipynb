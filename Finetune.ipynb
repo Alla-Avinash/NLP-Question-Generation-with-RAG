{
 "cells": [
  {
   "cell_type": "code",
   "execution_count": null,
   "id": "c0985e50-7d25-4377-97b1-a1e1d3261635",
   "metadata": {},
   "outputs": [],
   "source": [
    "# setting up the directory where we want to store the models\n",
    "import os\n",
    "\n",
    "print(\"Setting up the current working directory as the place where to host the transformers models downloaded from hugging face - \" + os.getcwd())\n",
    "os.environ['HF_HOME'] = \"/home/aalla4\"\n",
    "# os.environ['TRANSFORMERS_CACHE'] = '/home/aalla4'"
   ]
  },
  {
   "cell_type": "code",
   "execution_count": null,
   "id": "6e0b6172-dae2-4185-9fe8-d265344e8d75",
   "metadata": {},
   "outputs": [],
   "source": [
    "from transformers import T5Tokenizer, T5ForConditionalGeneration, Trainer, TrainingArguments, TrainerCallback\n",
    "from datasets import load_dataset, Dataset, concatenate_datasets\n",
    "import torch\n",
    "import random\n",
    "\n",
    "# getting the CPU and GPU count\n",
    "\n",
    "print(\"Total number of logical cores = \" + str(os.cpu_count()))  # This shows logical cores not the physical cores\n",
    "LOGICAL_CORES = os.cpu_count()\n",
    "USABLE_CPU_CORES = LOGICAL_CORES - 2    # YOU CAN CHANGE THIS ACCORDING TO THE CPU AVAILABILITIES\n",
    "\n",
    "print(\"CUDA available: \", torch.cuda.is_available())\n",
    "print(\"GPU name:\", torch.cuda.get_device_name(0) if torch.cuda.is_available() else \"No GPU\")"
   ]
  },
  {
   "cell_type": "code",
   "execution_count": null,
   "id": "659c4b4a-8afd-470d-9955-bae54bcae0ea",
   "metadata": {},
   "outputs": [],
   "source": [
    "# Load the model and tokenizer \n",
    "\n",
    "model_name = \"t5-base\"\n",
    "\n",
    "save_path = \"./T5base_Question_Generation\"\n",
    "tokenized_trainset_save_path = \"./dataset/tokenized_trainset.parquet\"\n",
    "tokenized_valset_save_path = \"./dataset/tokenized_valset.parquet\"\n",
    "\n",
    "tokenizer = T5Tokenizer.from_pretrained(model_name, legacy=False)\n",
    "model = T5ForConditionalGeneration.from_pretrained(model_name)\n",
    "\n",
    "print(f\"Max positional embeddings supported by model - {model_name}: \", model.config.n_positions)\n",
    "\n",
    "tokenizer_input_max_length = 512\n",
    "tokenizer_label_max_length = 250"
   ]
  },
  {
   "cell_type": "code",
   "execution_count": null,
   "id": "515f2536-4010-49b0-b370-db441a5226b7",
   "metadata": {},
   "outputs": [],
   "source": [
    "# Loading the dataset\n",
    "\n",
    "# num_training_examples = 4500       # to maintain uniformity when we mix all the various datasets, to get the model to understand the structure of different questions like mcq, t/f, short ans questions\n",
    "\n",
    "# datasets used are squad v1, hotpotqa, openbookqa, drop, boolq\n",
    "# the datasets returns a DatasetDict with \"train\" and \"validation\" splits\n",
    "\n",
    "print(\"Loading the datasets ........\")\n",
    "\n",
    "# Load HotpotQA (distractor)\n",
    "hotpotqa = load_dataset(\"hotpot_qa\", \"distractor\",  trust_remote_code=True)\n",
    "\n",
    "# SQUAD (V1)\n",
    "squad = load_dataset(\"squad\")\n",
    "\n",
    "# OpenBookQA (additional)\n",
    "openbookqa = load_dataset(\"openbookqa\", \"additional\")\n",
    "\n",
    "# Boolq dataset\n",
    "boolq = load_dataset(\"boolq\")\n",
    "\n",
    "# Drop dataset\n",
    "drop = load_dataset(\"drop\")\n",
    "\n",
    "print(\"Completed loading the datasets ........\")"
   ]
  },
  {
   "cell_type": "code",
   "execution_count": null,
   "id": "4a2fc730-1ab0-4511-85db-ff469e7dfde4",
   "metadata": {},
   "outputs": [],
   "source": [
    "# Preprocessing functions of the datasets\n",
    "\n",
    "# Preprocessing, combining and shuffling datasets only uses LOGICAL_CORES/ CPU's and not done on GPU's\n",
    "print(\"Starting Preprocesing; Available CPU Cores to use - \"+ str(USABLE_CPU_CORES))\n",
    "\n",
    "def preprocess_hotpotqa(example):  \n",
    "    \"hotpotq - used for short answer question generation, with focus on multi-hop sentences rater than forming the question with just a single line in the whole context\"      \n",
    "    '''input -  <extra_id_97>very short answer <extra_id_98>medium <extra_id_99>Arthur's Magazine, Arthur's Magazine (1844–1846) was an American literary periodical published in Philadelphia in the 19th century.  Edited by T.S. Arthur, it featured work by Edgar A. Poe, J.H. Ingraham, Sarah Josepha Hale, Thomas G. Spear, and others.  In May 1846 it was merged into \"Godey's Lady's Book\". First for Women, First for Women is a woman's magazine published by Bauer Media Group in the USA.  The magazine was started in 1989.  It is based in Englewood Cliffs, New Jersey.  In 2011 the circulation of the magazine was 1,310,696 copies. \n",
    "        label - Which magazine was started first Arthur's Magazine or First for Women?'''\n",
    "\n",
    "    answer = example['answer']\n",
    "    if len(answer.split()) < 12:                    \n",
    "        tag = \"very short answer\"\n",
    "    else:\n",
    "        tag = \"short answer\"\n",
    "    difficulty = example['level']                   # Extract difficulty - 'easy'/ 'medium'/ 'hard'\n",
    "\n",
    "    # thought of just keeping the supporting sentences instead of the all the sentences in the supporting titles, but the context length is too short for this approach           \n",
    "    supporting_facts = example[\"supporting_facts\"]\n",
    "    supporting_titles = set([t for t in supporting_facts['title']])          # Use set to avoid duplicates\n",
    "    context_titles = example['context']['title']\n",
    "    context_sentences = example['context']['sentences']\n",
    "\n",
    "    supporting_sentences = []\n",
    "\n",
    "    for idx, title in enumerate(context_titles):\n",
    "        if title in supporting_titles:\n",
    "            # Add all sentences under this title\n",
    "            req_sentences = []\n",
    "            for sent in context_sentences[idx]:\n",
    "                req_sentences.append(f\"{sent}\")\n",
    "            sentence_block = \" \".join(req_sentences)  \n",
    "            supporting_sentences.append(f\"{title}, {sentence_block}\")\n",
    "\n",
    "    short_context = \" \".join(supporting_sentences)\n",
    "    \n",
    "    # Randomly decide whether to include the answer or not as not always the answer will be likely to be provided by the instructor\n",
    "    include_answer = random.choices([True, False], weights=[15, 85], k=1)[0]\n",
    "\n",
    "    if include_answer:\n",
    "        input_text = f\"<extra_id_97>{tag} <extra_id_98>{difficulty} <extra_id_99>[{answer}] {short_context}\"     # Prepare the model input\n",
    "    else:\n",
    "        input_text = f\"<extra_id_97>{tag} <extra_id_98>{difficulty} <extra_id_99>{short_context}\"\n",
    "       \n",
    "    target_text = f\"{example['question']}\"                                                                       # Prepare the target output\n",
    "\n",
    "    # print(input_text, \"\\n\", target_text) \n",
    "    \n",
    "    # Tokenize both input and output\n",
    "    model_inputs = tokenizer(input_text, max_length=tokenizer_input_max_length, padding=\"max_length\", truncation=True)\n",
    "    labels = tokenizer(target_text, max_length=tokenizer_label_max_length, padding=\"max_length\", truncation=True)\n",
    "    \n",
    "    # Attach labels\n",
    "    model_inputs[\"labels\"] = labels[\"input_ids\"]\n",
    "    \n",
    "    return model_inputs\n",
    "\n",
    "\n",
    "def preprocess_squad(example):\n",
    "    \"squad - used for short answer question generation, with multiple questions generated with the same context\"\n",
    "    \n",
    "    answer = example['answers']['text'][0] if example['answers']['text'] else \"\"\n",
    "    if len(answer.split()) < 12:\n",
    "        tag = \"very short answer\"\n",
    "    else:\n",
    "        tag = \"short answer\"\n",
    "    difficulty = \"easy\"\n",
    "    context = example['context']\n",
    "\n",
    "    include_answer = random.choices([True, False], weights=[15, 85], k=1)[0]\n",
    "    if include_answer:\n",
    "        input_text = f\"<extra_id_97>{tag} <extra_id_98>{difficulty} <extra_id_99>[{answer}] {context}\"\n",
    "    else:\n",
    "        input_text = f\"<extra_id_97>{tag} <extra_id_98>{difficulty} <extra_id_99>{context}\"\n",
    "\n",
    "    target_text = example[\"question\"]\n",
    "\n",
    "    # print(input_text, \"\\n\", target_text)\n",
    "\n",
    "    # Tokenize\n",
    "    model_inputs = tokenizer(input_text, max_length=tokenizer_input_max_length, padding=\"max_length\", truncation=True)\n",
    "    labels = tokenizer(target_text, max_length=tokenizer_label_max_length, padding=\"max_length\", truncation=True)\n",
    "    model_inputs[\"labels\"] = labels[\"input_ids\"]\n",
    "\n",
    "    return model_inputs\n",
    "\n",
    "\n",
    "def preprocess_openbookqa(example):\n",
    "    \"openbookqa - used for multiple choice question generation\"\n",
    "    '''input - <extra_id_97>multiple choice question <extra_id_98>medium <extra_id_99>the sun is the source of energy for physical cycles on Earth \n",
    "       label - The sun is responsible for: [plants sprouting, blooming and wilting] (A. puppies learning new tricks; B. children growing up and getting old; C. flowers wilting in a vase; D. plants sprouting, blooming and wilting)'''\n",
    "   \n",
    "    # difficulty is calculated based on the human score and clarity\n",
    "    clarity = example.get(\"clarity\", 0)\n",
    "    human_score = example.get(\"human_score\", 1)\n",
    "    \n",
    "    # Filter out low clarity examples\n",
    "    # if clarity <= 1:\n",
    "    #     return None       # discard low-clarity / low-quality examples\n",
    "        # return {}\n",
    "\n",
    "    # Assign difficulty\n",
    "    if clarity > 1.8 and human_score < 1:\n",
    "        difficulty = \"hard\" \n",
    "    else:                             # [ 1 < clarity <= 1.8 ] and if [ clarity > 1.8 and human_score > 1 ]\n",
    "        difficulty = \"medium\"\n",
    "\n",
    "    tag = \"multiple choice question\"\n",
    "    \n",
    "    # Build the context using fact1 (from additional)\n",
    "    fact1 = example.get(\"fact1\", \"\")                # example.get(\"fact1\", \"\") is safe — it gives you a default value if the key is missing, example[\"fact1\"] will raise a KeyError if 'fact1' is missing.\n",
    "    \n",
    "    # Construct the multiple choice question format with answer marked\n",
    "    question_stem = example[\"question_stem\"]\n",
    "    answer_key = example[\"answerKey\"]              # 'A', 'B', 'C', or 'D'\n",
    "    choices = example[\"choices\"][\"text\"]\n",
    "    options = example[\"choices\"][\"label\"]            # ['A', 'B', 'C', 'D']\n",
    "    # choices_str = \"; \".join(example[\"choices\"][\"text\"])\n",
    "    choices_str = \"; \".join([f\"{option}. {text}\" for option, text in zip(options, choices)])\n",
    "    # answer_text = choices[\"text\"][int(ord(answer_key) - ord('A'))]\n",
    "    answer_text = choices[int(ord(answer_key) - ord('A'))]\n",
    "\n",
    "    target_text = f\"{question_stem}: [{answer_text}] ({choices_str})\"\n",
    "\n",
    "    input_text = f\"<extra_id_97>{tag} <extra_id_98>{difficulty} <extra_id_99>{fact1}\"\n",
    "\n",
    "    # print(input_text, \"\\n\", target_text)\n",
    "\n",
    "    # Tokenization\n",
    "    model_inputs = tokenizer(input_text, max_length=tokenizer_input_max_length, padding=\"max_length\", truncation=True)\n",
    "    labels = tokenizer(target_text, max_length=tokenizer_label_max_length, padding=\"max_length\", truncation=True)\n",
    "    model_inputs[\"labels\"] = labels[\"input_ids\"]\n",
    "    model_inputs[\"clarity\"] = clarity                 # Add clarity for later filtering\n",
    "    model_inputs[\"answer\"] = answer_text\n",
    "    \n",
    "    return model_inputs\n",
    "\n",
    "\n",
    "def preprocess_boolq(example):\n",
    "    \"boolq - used for true/ false question generation\"\n",
    "    ''' input - <extra_id_97>true or false question <extra_id_98>medium <extra_id_99>Good Samaritan laws offer legal protection to people who give reasonable assistance to those who are, or who they believe to be, injured, ill, in peril, or otherwise incapacitated. The protection is intended to reduce bystanders' hesitation to assist, for fear of being sued or prosecuted for unintentional injury or wrongful death. An example of such a law in common-law areas of Canada: a good Samaritan doctrine is a legal principle that prevents a rescuer who has voluntarily helped a victim in distress from being successfully sued for wrongdoing. Its purpose is to keep people from being reluctant to help a stranger in need for fear of legal repercussions should they make some mistake in treatment. By contrast, a duty to rescue law requires people to offer assistance and holds those who fail to do so liable. \n",
    "        label - do good samaritan laws protect those who help at an accident [true] '''\n",
    "\n",
    "    # difficulty tagging is not available in BoolQ, so we default it\n",
    "    difficulty = \"medium\"\n",
    "    tag = \"true or false question\"\n",
    "\n",
    "    # Extract question and answer\n",
    "    question = example[\"question\"]\n",
    "    answer = example[\"answer\"]          # this is a bool value: True / False\n",
    "    passage = example[\"passage\"]\n",
    "\n",
    "    target_text = f\"{question} [{'true' if answer else 'false'}]\"\n",
    "    input_text = f\"<extra_id_97>{tag} <extra_id_98>{difficulty} <extra_id_99>{passage}\"\n",
    "\n",
    "    # print(input_text, \"\\n\", target_text)\n",
    "\n",
    "    # Tokenization\n",
    "    model_inputs = tokenizer(input_text, max_length=tokenizer_input_max_length, padding=\"max_length\", truncation=True)\n",
    "    labels = tokenizer(target_text, max_length=tokenizer_label_max_length, padding=\"max_length\", truncation=True)\n",
    "    model_inputs[\"labels\"] = labels[\"input_ids\"]\n",
    "\n",
    "    return model_inputs\n",
    "\n",
    "\n",
    "def preprocess_drop(example):\n",
    "    \"drop - used for very short answer question generation, with multiple questions generated with the same context, it  also includes some math calculations that has to be done by the model\"\n",
    "\n",
    "    tag = \"one word answer\"\n",
    "    difficulty = \"medium\"\n",
    "    question = example.get(\"question\", \"\")\n",
    "    passage = example.get(\"passage\", \"\")\n",
    "    \n",
    "    # Retrieve the first available answer from 'answers_spans' (string or list of strings)\n",
    "    answers = example.get(\"answers_spans\", {}).get(\"spans\", [])\n",
    "    if not answers:\n",
    "        return None                                           # Skip if no answer available\n",
    "\n",
    "    answer = answers[0]      \n",
    "    \n",
    "    target_text = f\"{question} [{answer}]\"\n",
    "    input_text = f\"<extra_id_97>{tag} <extra_id_98>{difficulty} <extra_id_99>{passage}\"\n",
    "\n",
    "    # print(input_text, \"\\n\", target_text)\n",
    "\n",
    "    # Tokenization\n",
    "    model_inputs = tokenizer(input_text, max_length=tokenizer_input_max_length, padding=\"max_length\", truncation=True)\n",
    "    labels = tokenizer(target_text, max_length=tokenizer_label_max_length, padding=\"max_length\", truncation=True)\n",
    "    model_inputs[\"labels\"] = labels[\"input_ids\"]\n",
    "\n",
    "    return model_inputs\n"
   ]
  },
  {
   "cell_type": "code",
   "execution_count": null,
   "id": "4ea717e7-e6f4-4f1c-b440-4a5c57d51861",
   "metadata": {},
   "outputs": [],
   "source": [
    "# Splitting the datasets into train and validation & Preprocessing the datasets individually\n",
    "\n",
    "# Preprocess both splits separately for both datasets\n",
    "# put the .select(range(5)) steps for testing out the input and output results and printing them ******\n",
    "# hotpotqa_train = hotpotqa[\"train\"].select(range(5)).map(preprocess_hotpotqa, batched=False, num_proc=USABLE_CPU_CORES)\n",
    "# hotpotqa_train = hotpotqa[\"train\"].select(range(5)).map(preprocess_hotpotqa)\n",
    "\n",
    "# trail\n",
    "# drop_train = drop[\"train\"].select(range(5)).map(preprocess_drop)\n",
    "# drop_val = drop[\"validation\"].select(range(5)).map(preprocess_drop)\n",
    "# boolq_train = boolq[\"train\"].select(range(5)).map(preprocess_boolq)"
   ]
  },
  {
   "cell_type": "code",
   "execution_count": null,
   "id": "f4418b89-8e48-49d3-b74e-3090370124db",
   "metadata": {},
   "outputs": [],
   "source": [
    "hotpotqa_train = hotpotqa[\"train\"].map(preprocess_hotpotqa, batched=False, num_proc=USABLE_CPU_CORES, remove_columns=hotpotqa[\"train\"].column_names)\n",
    "hotpotqa_val = hotpotqa[\"validation\"].map(preprocess_hotpotqa, batched=False, num_proc=USABLE_CPU_CORES, remove_columns=hotpotqa[\"validation\"].column_names)"
   ]
  },
  {
   "cell_type": "code",
   "execution_count": null,
   "id": "29d3524c-3889-48ad-a51a-c58e5cf4abcc",
   "metadata": {},
   "outputs": [],
   "source": [
    "squad_train = squad[\"train\"].map(preprocess_squad, batched=False, num_proc=USABLE_CPU_CORES, remove_columns=squad[\"train\"].column_names)\n",
    "squad_val = squad[\"validation\"].map(preprocess_squad, batched=False, num_proc=USABLE_CPU_CORES, remove_columns=squad[\"validation\"].column_names)"
   ]
  },
  {
   "cell_type": "code",
   "execution_count": null,
   "id": "e6eebb9e-b5e6-4541-9d2f-3ff6ef5fcd06",
   "metadata": {},
   "outputs": [],
   "source": [
    "openbookqa_train = openbookqa[\"train\"].map(preprocess_openbookqa, batched=False, num_proc=USABLE_CPU_CORES, remove_columns=openbookqa[\"train\"].column_names).filter( lambda x: (x.get(\"clarity\", 0) > 1) and bool(x.get(\"answer\"))).remove_columns([\"clarity\", \"answer\"])\n",
    "openbookqa_val = openbookqa[\"validation\"].map(preprocess_openbookqa, batched=False, num_proc=USABLE_CPU_CORES, remove_columns=openbookqa[\"validation\"].column_names).filter( lambda x: (x.get(\"clarity\", 0) > 1) and bool(x.get(\"answer\"))).remove_columns([\"clarity\", \"answer\"])"
   ]
  },
  {
   "cell_type": "code",
   "execution_count": null,
   "id": "34f37a5c-27a2-493f-a98f-9f3c934e3579",
   "metadata": {},
   "outputs": [],
   "source": [
    "boolq_train = boolq[\"train\"].map(preprocess_boolq, batched=False, num_proc=USABLE_CPU_CORES, remove_columns=boolq[\"train\"].column_names)\n",
    "boolq_val = boolq[\"validation\"].map(preprocess_boolq, batched=False, num_proc=USABLE_CPU_CORES, remove_columns=boolq[\"validation\"].column_names)"
   ]
  },
  {
   "cell_type": "code",
   "execution_count": null,
   "id": "cb792db9-abcb-4a3c-87ea-2083c2df7ec3",
   "metadata": {},
   "outputs": [],
   "source": [
    "drop_train = drop[\"train\"].map(preprocess_drop, batched=False, num_proc=USABLE_CPU_CORES, remove_columns=drop[\"train\"].column_names)\n",
    "drop_val = drop[\"validation\"].map(preprocess_drop, batched=False, num_proc=USABLE_CPU_CORES, remove_columns=drop[\"validation\"].column_names)"
   ]
  },
  {
   "cell_type": "code",
   "execution_count": null,
   "id": "82d73950-47f9-493b-b98d-2542b70c3c2d",
   "metadata": {},
   "outputs": [],
   "source": [
    "# combining the datasets and shuffling them\n",
    "\n",
    "# Combine and shuffle the datasets\n",
    "tokenized_train_dataset = concatenate_datasets([\n",
    "    hotpotqa_train,\n",
    "    squad_train,\n",
    "    openbookqa_train,\n",
    "    boolq_train,\n",
    "    drop_train\n",
    "]).shuffle(seed=92)\n",
    "\n",
    "tokenized_val_dataset = concatenate_datasets([\n",
    "    hotpotqa_val,\n",
    "    squad_val,\n",
    "    openbookqa_val,\n",
    "    boolq_val,\n",
    "    drop_val\n",
    "]).shuffle(seed=42)\n",
    "\n",
    "# tokenized_train_dataset = hotpotqa_train\n",
    "# tokenized_val_dataset = hotpotqa_val\n"
   ]
  },
  {
   "cell_type": "code",
   "execution_count": null,
   "id": "d90e113d-c5bf-488b-bdd4-da83affa2271",
   "metadata": {},
   "outputs": [],
   "source": [
    "# Save to Parquet (efficient for large datasets)\n",
    "\n",
    "tokenized_train_dataset.to_parquet(tokenized_trainset_save_path)\n",
    "tokenized_val_dataset.to_parquet(tokenized_valset_save_path)"
   ]
  },
  {
   "cell_type": "code",
   "execution_count": null,
   "id": "700bbfd4-7fa9-4a41-aa62-638b7cfb345c",
   "metadata": {},
   "outputs": [],
   "source": []
  },
  {
   "cell_type": "code",
   "execution_count": null,
   "id": "589ce9b9-652a-4523-9879-cf4e4724ba84",
   "metadata": {},
   "outputs": [],
   "source": []
  },
  {
   "cell_type": "code",
   "execution_count": null,
   "id": "05a8b6d8-dc0e-4dc7-bb43-2819b7e97cb9",
   "metadata": {},
   "outputs": [],
   "source": []
  },
  {
   "cell_type": "code",
   "execution_count": null,
   "id": "f85d59e9-5efd-41c2-81ae-ce58eec21d47",
   "metadata": {},
   "outputs": [],
   "source": []
  },
  {
   "cell_type": "code",
   "execution_count": null,
   "id": "f08b998b-62d9-4382-b6f8-95b1bd344119",
   "metadata": {},
   "outputs": [],
   "source": []
  },
  {
   "cell_type": "code",
   "execution_count": null,
   "id": "92605cc3-ff15-4db8-bc03-be8ffddc6533",
   "metadata": {},
   "outputs": [],
   "source": [
    "# If you already have the preprocessed dataset then run the below code"
   ]
  },
  {
   "cell_type": "code",
   "execution_count": 1,
   "id": "11261e74-f65d-4994-ac2b-c69440dd9bde",
   "metadata": {},
   "outputs": [
    {
     "name": "stdout",
     "output_type": "stream",
     "text": [
      "Setting up the current working directory as the place where to host the transformers models downloaded from hugging face - /home/aalla4\n"
     ]
    }
   ],
   "source": [
    "# setting up the directory where we want to store the models\n",
    "import os\n",
    "\n",
    "print(\"Setting up the current working directory as the place where to host the transformers models downloaded from hugging face - \" + os.getcwd())\n",
    "os.environ['HF_HOME'] = \"/home/aalla4\"\n",
    "# os.environ['TRANSFORMERS_CACHE'] = '/home/aalla4'"
   ]
  },
  {
   "cell_type": "code",
   "execution_count": 2,
   "id": "72894351-5c30-49f9-814c-83d999adfec4",
   "metadata": {},
   "outputs": [],
   "source": [
    "from transformers import T5Tokenizer, T5ForConditionalGeneration, Trainer, TrainingArguments, TrainerCallback\n",
    "from datasets import load_dataset, Dataset, concatenate_datasets\n",
    "import torch\n",
    "import random"
   ]
  },
  {
   "cell_type": "code",
   "execution_count": 3,
   "id": "0f45352e-0afa-403f-bad6-dcd19861e1f3",
   "metadata": {},
   "outputs": [
    {
     "name": "stdout",
     "output_type": "stream",
     "text": [
      "Total number of logical cores = 48\n",
      "CUDA available:  True\n",
      "GPU name: NVIDIA A100-SXM4-80GB\n"
     ]
    }
   ],
   "source": [
    "# getting the CPU and GPU count\n",
    "\n",
    "print(\"Total number of logical cores = \" + str(os.cpu_count()))  # This shows logical cores not the physical cores\n",
    "LOGICAL_CORES = os.cpu_count()\n",
    "USABLE_CPU_CORES = LOGICAL_CORES - 1    # YOU CAN CHANGE THIS ACCORDING TO THE CPU AVAILABILITIES\n",
    "\n",
    "print(\"CUDA available: \", torch.cuda.is_available())\n",
    "print(\"GPU name:\", torch.cuda.get_device_name(0) if torch.cuda.is_available() else \"No GPU\")"
   ]
  },
  {
   "cell_type": "code",
   "execution_count": null,
   "id": "9df23a6c-1371-48b8-95ee-1c43bced2a17",
   "metadata": {},
   "outputs": [
    {
     "name": "stdout",
     "output_type": "stream",
     "text": [
      "Max positional embeddings supported by model - ./T5base_Question_Generation_v5_mcq:  512\n"
     ]
    }
   ],
   "source": [
    "# Load the model and tokenizer \n",
    "\n",
    "model_name = \"t5-base\" \n",
    "\n",
    "# with extra openbookqa\n",
    "save_path = \"./T5base_Question_Generation\"\n",
    "\n",
    "tokenized_trainset_path = \"./dataset/tokenized_trainset.parquet\"\n",
    "tokenized_valset_path = \"./dataset/tokenized_valset.parquet\"\n",
    "\n",
    "tokenizer = T5Tokenizer.from_pretrained(model_name, legacy=False)\n",
    "model = T5ForConditionalGeneration.from_pretrained(model_name)\n",
    "\n",
    "print(f\"Max positional embeddings supported by model - {model_name}: \", model.config.n_positions)\n",
    "\n",
    "tokenizer_input_max_length = 512\n",
    "tokenizer_label_max_length = 250"
   ]
  },
  {
   "cell_type": "code",
   "execution_count": 5,
   "id": "f76675cb-7f12-43f5-ab37-4f53b1ad14c2",
   "metadata": {},
   "outputs": [
    {
     "data": {
      "application/vnd.jupyter.widget-view+json": {
       "model_id": "b2faca6859804488b5ab6a339611e7ac",
       "version_major": 2,
       "version_minor": 0
      },
      "text/plain": [
       "Generating train split: 0 examples [00:00, ? examples/s]"
      ]
     },
     "metadata": {},
     "output_type": "display_data"
    },
    {
     "data": {
      "application/vnd.jupyter.widget-view+json": {
       "model_id": "15e918bcdcba4c29b8ce446071af30f3",
       "version_major": 2,
       "version_minor": 0
      },
      "text/plain": [
       "Generating train split: 0 examples [00:00, ? examples/s]"
      ]
     },
     "metadata": {},
     "output_type": "display_data"
    }
   ],
   "source": [
    "# Load the Tokenized Dataset if Preprocessing is already done\n",
    "\n",
    "# Load from Parquet\n",
    "tokenized_train_dataset = Dataset.from_parquet(tokenized_trainset_path)\n",
    "tokenized_val_dataset = Dataset.from_parquet(tokenized_valset_path)"
   ]
  },
  {
   "cell_type": "code",
   "execution_count": null,
   "id": "1404b73c-c84a-4f71-8a53-069ad4b325e5",
   "metadata": {},
   "outputs": [
    {
     "name": "stdout",
     "output_type": "stream",
     "text": [
      "This is the current device:  cuda\n",
      "Device updated to: cuda:0\n"
     ]
    }
   ],
   "source": [
    "# Defning the Training args \n",
    "\n",
    "device = torch.device(\"cuda\" if torch.cuda.is_available() else \"cpu\")\n",
    "model.to(device)\n",
    "print(\"This is the current device: \", device)\n",
    "print(\"Device updated to:\", model.device)\n",
    "\n",
    "\n",
    "training_args = TrainingArguments(\n",
    "    output_dir=save_path,              # directory where the training logs, checkpoints, and evaluation results (like metrics) are saved during the training process   \n",
    "    \n",
    "    learning_rate=1e-5,\n",
    "    warmup_steps=1000,\n",
    "    num_train_epochs=3,                         \n",
    "    weight_decay=1e-3,                          \n",
    "\n",
    "    # generally Batch size = per_device_train_batch_size * per_device_train_batch_size\n",
    "    per_device_train_batch_size=8,                       # ****** if using GPU's = 16; if using CPU's = 1 or 2\n",
    "    # gradient_accumulation_steps=2,                     # Increase this if you need to simulate larger batch sizes, without running into 'Out or Memory' errors when memory is limited\n",
    "    per_device_eval_batch_size=8,\n",
    "\n",
    "    # this is not useful for CPU based training as hugging face trainer handles multi-core utilization automatically based on the system configuration\n",
    "    dataloader_num_workers= USABLE_CPU_CORES,          # ****** for optimal use of CPU and not wasting GPU time [ this helps in loading the next batch of data into the VRAM ]\n",
    "\n",
    "    # Print validation loss every epoch\n",
    "    eval_strategy=\"epoch\",            \n",
    "\n",
    "    # Print and logs the training loss of the training data\n",
    "    logging_strategy=\"steps\",   \n",
    "    logging_steps=1000,                                   # ****** if using GPU = 100 or more; if using CPU just for testing = 1 or 2 \n",
    "\n",
    "    # saves model at the end of every epoch\n",
    "    save_strategy=\"epoch\",            \n",
    "    # save_total_limit=2,\n",
    "    save_total_limit=1,\n",
    "\n",
    "    # report_to=\"none\",  # Disable default logging\n",
    "    \n",
    "    logging_dir= save_path + \"/logs\",           # save logs to a directory\n",
    "    report_to=\"tensorboard\",                    # Reports to TensorBoard\n",
    "    log_level='info',                           # Set logging level to 'info' to see the logs in the terminal\n",
    "    # run this command in your terminal ~ tensorboard --logdir=./output_dir/runs\n",
    "    # and open 'http://localhost:6006/' to monitor the logs [loss over the training]\n",
    "\n",
    "    fp16=False                                   # ***** Mixed precision for faster training on A100; this won't work on CPU's; but i got grad_norm (tells if the model backpropogates or not) values as NaN if set this to True\n",
    "    \n",
    ")"
   ]
  },
  {
   "cell_type": "code",
   "execution_count": 7,
   "id": "7d38f287-03b3-478d-b17c-030f20e27c51",
   "metadata": {},
   "outputs": [],
   "source": [
    "# Logging in the Terminal\n",
    "class LogCallback(TrainerCallback):\n",
    "    def on_log(self, args, state, control, logs=None, **kwargs):\n",
    "        if logs is not None:\n",
    "            print(f\"Step {state.global_step}: {logs}\")"
   ]
  },
  {
   "cell_type": "code",
   "execution_count": 8,
   "id": "5e91dfd4-31b8-4a6d-8d3d-cd8b5c4fd6a4",
   "metadata": {},
   "outputs": [
    {
     "name": "stderr",
     "output_type": "stream",
     "text": [
      "Detected kernel version 4.18.0, which is below the recommended minimum of 5.5.0; this can cause the process to hang. It is recommended to upgrade the kernel to the minimum version or higher.\n"
     ]
    }
   ],
   "source": [
    "# Trainer setup\n",
    "trainer = Trainer(\n",
    "    model=model,\n",
    "    args=training_args,\n",
    "    \n",
    "    train_dataset=tokenized_train_dataset,            # your test set\n",
    "    eval_dataset=tokenized_val_dataset,               # your validation set\n",
    "\n",
    "    # train_dataset=tokenized_train_dataset.select(range(100)),    \n",
    "    # eval_dataset=tokenized_val_dataset.select(range(100)),\n",
    "    \n",
    "    callbacks=[LogCallback()]                   # *** to print the logs in the terminal\n",
    ")"
   ]
  },
  {
   "cell_type": "code",
   "execution_count": null,
   "id": "b222725c-75e8-4145-bd00-8602a85f73da",
   "metadata": {},
   "outputs": [
    {
     "name": "stderr",
     "output_type": "stream",
     "text": [
      "/home/aalla4/.local/lib/python3.12/site-packages/torch/utils/data/dataloader.py:626: UserWarning: This DataLoader will create 47 worker processes in total. Our suggested max number of worker in current system is 4, which is smaller than what this DataLoader is going to create. Please be aware that excessive worker creation might get DataLoader running slow or even freeze, lower the worker number to avoid potential slowness/freeze if necessary.\n",
      "  warnings.warn(\n",
      "***** Running training *****\n",
      "  Num examples = 90,447\n",
      "  Num Epochs = 2\n",
      "  Instantaneous batch size per device = 32\n",
      "  Total train batch size (w. parallel, distributed & accumulation) = 64\n",
      "  Gradient Accumulation steps = 2\n",
      "  Total optimization steps = 2,826\n",
      "  Number of trainable parameters = 222,903,552\n",
      "Passing a tuple of `past_key_values` is deprecated and will be removed in Transformers v4.48.0. You should pass an instance of `EncoderDecoderCache` instead, e.g. `past_key_values=EncoderDecoderCache.from_legacy_cache(past_key_values)`.\n"
     ]
    },
    {
     "data": {
      "text/html": [
       "\n",
       "    <div>\n",
       "      \n",
       "      <progress value='275' max='2826' style='width:300px; height:20px; vertical-align: middle;'></progress>\n",
       "      [ 275/2826 11:17 < 1:45:31, 0.40 it/s, Epoch 0.19/2]\n",
       "    </div>\n",
       "    <table border=\"1\" class=\"dataframe\">\n",
       "  <thead>\n",
       " <tr style=\"text-align: left;\">\n",
       "      <th>Epoch</th>\n",
       "      <th>Training Loss</th>\n",
       "      <th>Validation Loss</th>\n",
       "    </tr>\n",
       "  </thead>\n",
       "  <tbody>\n",
       "  </tbody>\n",
       "</table><p>"
      ],
      "text/plain": [
       "<IPython.core.display.HTML object>"
      ]
     },
     "metadata": {},
     "output_type": "display_data"
    }
   ],
   "source": [
    "# Training the Model\n",
    "\n",
    "# Train\n",
    "trainer.train()\n",
    "\n",
    "# Save the model\n",
    "trainer.save_model(save_path)                           \n",
    "\n",
    "tokenizer.save_pretrained(save_path)     "
   ]
  },
  {
   "cell_type": "code",
   "execution_count": null,
   "id": "e2663d4b-3431-4bdf-b5cc-84b58c9ee3e1",
   "metadata": {},
   "outputs": [],
   "source": []
  },
  {
   "cell_type": "code",
   "execution_count": null,
   "id": "da136b7b-b87f-42b2-a7a7-2c4768840270",
   "metadata": {},
   "outputs": [],
   "source": []
  },
  {
   "cell_type": "code",
   "execution_count": null,
   "id": "88933086-71b1-44f6-b311-9aca185e0354",
   "metadata": {},
   "outputs": [],
   "source": []
  },
  {
   "cell_type": "code",
   "execution_count": null,
   "id": "bee08d64-7294-4ebd-ba34-6190c2b2dfc5",
   "metadata": {},
   "outputs": [],
   "source": []
  },
  {
   "cell_type": "code",
   "execution_count": null,
   "id": "30c78792-d128-4ec2-b77a-58583cdb2d6a",
   "metadata": {},
   "outputs": [],
   "source": []
  },
  {
   "cell_type": "code",
   "execution_count": null,
   "id": "0c50d885-7ef2-44d2-bc68-3a63df120a2b",
   "metadata": {},
   "outputs": [],
   "source": []
  },
  {
   "cell_type": "code",
   "execution_count": null,
   "id": "29277701-c95e-45c2-a189-1a29151105b6",
   "metadata": {},
   "outputs": [],
   "source": [
    "# Running the finetuned question generation model with a sample context\n",
    "\n",
    "# the finetuned model name\n",
    "new_model = \"./T5base_Question_Generation\"\n",
    "\n",
    "\n",
    "# Load model and tokenizer\n",
    "tokenizer = T5Tokenizer.from_pretrained(new_model)\n",
    "model = T5ForConditionalGeneration.from_pretrained(new_model)\n",
    "\n",
    "\n",
    "def get_question(tag, difficulty, context, answer=\"\", num_questions=3, max_length=150):\n",
    "    \"\"\"\n",
    "    Generate questions using the fine-tuned T5 model.\n",
    "    \n",
    "    Parameters:\n",
    "    - tag: Type of question (e.g., \"short answer\", \"multiple choice question\", \"true or false question\")\n",
    "    - difficulty: \"easy\", \"medium\", \"hard\"\n",
    "    - context: Supporting context or passage\n",
    "    - answer: Optional — if you want targeted question generation\n",
    "    - num_questions: Number of diverse questions to generate\n",
    "    - max_length: Max token length of generated output\n",
    "    \n",
    "    Returns:\n",
    "    - List of generated questions as strings\n",
    "    \"\"\"\n",
    "    # Format input text based on whether answer is provided\n",
    "    answer_part = f\"[{answer}]\" if answer else \"\"\n",
    "    input_text = f\"<extra_id_97>{tag} <extra_id_98>{difficulty} <extra_id_99>{answer_part} {context}\"\n",
    "\n",
    "    # Tokenize\n",
    "    features = tokenizer([input_text], return_tensors='pt')\n",
    "\n",
    "    # Generate questions\n",
    "    output = model.generate(\n",
    "        input_ids=features['input_ids'],\n",
    "        attention_mask=features['attention_mask'],\n",
    "        max_length=max_length,\n",
    "\n",
    "        # Beam Search\n",
    "        # just prints only one question\n",
    "        # num_beams = 5,\n",
    "        # early_stopping=True,              # to stop when the first beam is finished \n",
    "\n",
    "        # Sampling\n",
    "        num_return_sequences=num_questions,\n",
    "        do_sample=True,\n",
    "        top_p=0.95,\n",
    "        top_k=50\n",
    "    )\n",
    "\n",
    "    # Decode generated questions\n",
    "    for i, out in enumerate(output):\n",
    "        question = tokenizer.decode(out, skip_special_tokens=True)\n",
    "        print(f\"Question {i+1}: {question}\")\n",
    "    \n",
    "    print(\"------------------------------------------------\")\n",
    "    "
   ]
  },
  {
   "cell_type": "code",
   "execution_count": null,
   "id": "acdd5c41-b494-437d-b485-85615e1aad80",
   "metadata": {},
   "outputs": [],
   "source": [
    "# Giving the context and difficulty\n",
    "\n",
    "\n",
    "context = \"Reinforcement Learning (RL) is a dynamic area of machine learning where agents are trained to make a sequence of decisions by interacting with an environment. Each interaction leads to a new state and a scalar reward, which indicates the quality of the action taken. The agent’s objective is to learn an optimal policy that maximizes the total accumulated reward over time. This is different from supervised learning, which requires labeled datasets. In RL, learning is driven by experience and the agent often learns from delayed rewards, making the credit assignment problem a central challenge. The environment is often modeled as a Markov Decision Process (MDP), characterized by states, actions, transition dynamics, and rewards. Algorithms such as Q-learning, SARSA, and Policy Gradient methods are used to find optimal policies. Modern applications employ deep learning to approximate complex functions, giving rise to Deep Reinforcement Learning. Techniques like Deep Q-Networks (DQN), Proximal Policy Optimization (PPO), and Actor-Critic methods have demonstrated state-of-the-art performance in domains ranging from game playing (e.g., Atari, Go) to robotics and recommendation systems. Exploration-exploitation trade-offs, sample efficiency, and generalization are ongoing challenges in the field. RL has significant potential in real-world decision-making systems.\"\n",
    "\n",
    "\n",
    "difficulty = \"hard\"\n",
    "\n",
    "\n",
    "\n"
   ]
  },
  {
   "cell_type": "code",
   "execution_count": null,
   "id": "6e4d0f5b-a689-4012-9186-35feabf90502",
   "metadata": {},
   "outputs": [],
   "source": [
    "# short answer question \n",
    "\n",
    "get_question(\n",
    "    tag=\"short answer\",\n",
    "    difficulty=difficulty,\n",
    "    context=context\n",
    ")"
   ]
  },
  {
   "cell_type": "code",
   "execution_count": null,
   "id": "04090c00-2126-4aed-aa4b-78e696a59033",
   "metadata": {},
   "outputs": [],
   "source": [
    "# true or false question \n",
    "\n",
    "get_question(\n",
    "    tag=\"true or false question\",\n",
    "    difficulty=difficulty,\n",
    "    context=context\n",
    ")"
   ]
  },
  {
   "cell_type": "code",
   "execution_count": null,
   "id": "172fa7d8-a102-4489-8161-2bd75b797c76",
   "metadata": {},
   "outputs": [],
   "source": [
    "# multiple choice question \n",
    "\n",
    "get_question(\n",
    "    tag=\"multiple choice question\",\n",
    "    difficulty=difficulty,\n",
    "    context=context\n",
    ")"
   ]
  },
  {
   "cell_type": "code",
   "execution_count": null,
   "id": "64b4cd24-50b7-48a5-8027-5fde947698fa",
   "metadata": {},
   "outputs": [],
   "source": []
  },
  {
   "cell_type": "code",
   "execution_count": null,
   "id": "a879febb-a497-4902-95ad-e62076d69933",
   "metadata": {},
   "outputs": [],
   "source": []
  }
 ],
 "metadata": {
  "kernelspec": {
   "display_name": "Python 3 (ipykernel)",
   "language": "python",
   "name": "python3"
  },
  "language_info": {
   "codemirror_mode": {
    "name": "ipython",
    "version": 3
   },
   "file_extension": ".py",
   "mimetype": "text/x-python",
   "name": "python",
   "nbconvert_exporter": "python",
   "pygments_lexer": "ipython3",
   "version": "3.12.9"
  }
 },
 "nbformat": 4,
 "nbformat_minor": 5
}
